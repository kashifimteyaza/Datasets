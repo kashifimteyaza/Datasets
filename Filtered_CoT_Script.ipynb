{
  "nbformat": 4,
  "nbformat_minor": 0,
  "metadata": {
    "colab": {
      "provenance": [],
      "authorship_tag": "ABX9TyMf2edx42aOxpBxg23F2Gw7"
    },
    "kernelspec": {
      "name": "python3",
      "display_name": "Python 3"
    },
    "language_info": {
      "name": "python"
    }
  },
  "cells": [
    {
      "cell_type": "code",
      "source": [
        "from datasets import load_dataset\n",
        "\n",
        "dataset = load_dataset(\"Imteyazk/CoT-filtered\")"
      ],
      "metadata": {
        "id": "SghszZPug7k3"
      },
      "execution_count": null,
      "outputs": []
    }
  ]
}